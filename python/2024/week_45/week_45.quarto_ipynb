{
  "cells": [
    {
      "cell_type": "markdown",
      "metadata": {},
      "source": [
        "---\n",
        "title: \"Democracy Data Analysis\"\n",
        "subtitle: \"TidyTuesday Week 45\"\n",
        "date: \"2024-11-05\"\n",
        "author: \"gnoblet\"\n",
        "categories: [python, geospatial, altair, geopandas, democracy]\n",
        "---\n",
        "\n",
        "## Overview\n",
        "\n",
        "This week's TidyTuesday focused on democracy data, exploring which countries are considered democratic over time. I created interactive world maps using Python to visualize the evolution of democratic states from 1950 to the present.\n",
        "\n",
        "## Dataset\n",
        "\n",
        "The dataset contains information about democracy classifications for countries worldwide, spanning from 1950 to recent years. Each country is classified as democratic or non-democratic for each year.\n",
        "\n",
        "**Source**: [TidyTuesday Democracy Data](https://github.com/rfordatascience/tidytuesday/tree/master/data/2024/2024-11-05)\n",
        "\n",
        "## Analysis\n",
        "\n",
        "### Libraries Used\n",
        "- `pandas` - Data manipulation and analysis\n",
        "- `geopandas` - Geospatial data handling and operations\n",
        "- `altair` - Interactive statistical visualizations\n",
        "\n",
        "### Data Loading and Preparation"
      ],
      "id": "71e29c93"
    },
    {
      "cell_type": "code",
      "metadata": {},
      "source": [
        "#| label: load-data\n",
        "#| echo: true\n",
        "\n",
        "# Get CSV data\n",
        "import pandas as pd\n",
        "df = pd.read_csv('https://raw.githubusercontent.com/rfordatascience/tidytuesday/master/data/2024/2024-11-05/democracy_data.csv')\n",
        "\n",
        "print(f\"Dataset shape: {df.shape}\")\n",
        "print(f\"Years covered: {df['year'].min()} - {df['year'].max()}\")\n",
        "print(f\"Countries: {df['country_code'].nunique()}\")\n",
        "print(f\"Democratic classifications: {df['is_democracy'].value_counts()}\")"
      ],
      "id": "load-data",
      "execution_count": null,
      "outputs": []
    },
    {
      "cell_type": "markdown",
      "metadata": {},
      "source": [
        "### Geospatial Data Integration"
      ],
      "id": "4fbaf642"
    },
    {
      "cell_type": "code",
      "metadata": {},
      "source": [
        "#| label: geospatial-data\n",
        "#| echo: true\n",
        "\n",
        "# Get world countries geojson\n",
        "import geopandas as gpd\n",
        "world = gpd.read_file('https://datahub.io/core/geo-countries/_r/-/data/countries.geojson')\n",
        "\n",
        "print(f\"World geometries: {len(world)} countries\")\n",
        "print(f\"Available columns: {world.columns.tolist()}\")\n",
        "print(f\"Sample of country codes: {world['ISO_A3'].head().tolist() if 'ISO_A3' in world.columns else 'ISO_A3 not found'}\")"
      ],
      "id": "geospatial-data",
      "execution_count": null,
      "outputs": []
    },
    {
      "cell_type": "markdown",
      "metadata": {},
      "source": [
        "### Data Joining Function"
      ],
      "id": "3de1bae9"
    },
    {
      "cell_type": "code",
      "metadata": {},
      "source": [
        "#| label: join-function\n",
        "#| echo: true\n",
        "\n",
        "# Function that left joins DataFrame and GeoDataFrame\n",
        "def left_join_gdf(df, gdf, key_df, key_gdf, how='left'):\n",
        "    \"\"\"\n",
        "    Join democracy data with world geometries\n",
        "    \"\"\"\n",
        "    return pd.merge(df, gdf, left_on=key_df, right_on=key_gdf, how=how).set_geometry('geometry')\n",
        "\n",
        "# Check available country code columns\n",
        "print(\"Democracy data country codes sample:\", df['country_code'].head().tolist())\n",
        "print(\"World data columns:\", [col for col in world.columns if 'ISO' in col or 'CODE' in col or col in ['ADMIN', 'NAME']])\n",
        "\n",
        "# Find the appropriate ISO3 column\n",
        "iso3_columns = [col for col in world.columns if 'ISO' in col and '3' in col]\n",
        "print(f\"Available ISO3 columns: {iso3_columns}\")\n",
        "\n",
        "# Use the first available ISO3 column\n",
        "if iso3_columns:\n",
        "    country_col = iso3_columns[0]  # Should be 'ISO3166-1-Alpha-3'\n",
        "else:\n",
        "    # Fallback to first column that might contain country codes\n",
        "    potential_cols = [col for col in world.columns if any(term in col.upper() for term in ['ISO', 'CODE', 'ADMIN', 'NAME'])]\n",
        "    country_col = potential_cols[0] if potential_cols else world.columns[0]\n",
        "\n",
        "print(f\"Using column: {country_col}\")\n",
        "\n",
        "# Join democracy data with world geometries\n",
        "df_shp = left_join_gdf(\n",
        "    df,\n",
        "    world,\n",
        "    key_df='country_code', \n",
        "    key_gdf=country_col, \n",
        "    how='left'\n",
        ")\n",
        "\n",
        "print(f\"Joined dataset shape: {df_shp.shape}\")\n",
        "print(f\"Countries with geometry: {df_shp['geometry'].notna().sum()}\")"
      ],
      "id": "join-function",
      "execution_count": null,
      "outputs": []
    },
    {
      "cell_type": "markdown",
      "metadata": {},
      "source": [
        "### Visualization Setup"
      ],
      "id": "c3deeea2"
    },
    {
      "cell_type": "code",
      "metadata": {},
      "source": [
        "#| label: viz-setup\n",
        "#| echo: true\n",
        "\n",
        "import altair as alt\n",
        "\n",
        "# Color scheme for democracy status\n",
        "col1 = '#5F4B8BFF'  # Democracy\n",
        "col2 = '#E69A8DFF'  # Non-democracy  \n",
        "col3 = '#4c4b4c'    # No data\n",
        "\n",
        "# Focus on a specific year for detailed analysis\n",
        "year = 2020\n",
        "df_to_alt = df_shp[df_shp['year'] == year].copy()\n",
        "\n",
        "print(f\"Data for {year}: {len(df_to_alt)} records\")\n",
        "print(f\"Democratic countries in {year}: {df_to_alt['is_democracy'].sum()}\")"
      ],
      "id": "viz-setup",
      "execution_count": null,
      "outputs": []
    },
    {
      "cell_type": "markdown",
      "metadata": {},
      "source": [
        "### Interactive Map Creation"
      ],
      "id": "1b727ce0"
    },
    {
      "cell_type": "code",
      "metadata": {},
      "source": [
        "#| label: create-map\n",
        "#| echo: true\n",
        "\n",
        "# Create interactive choropleth map\n",
        "chart = alt.Chart(\n",
        "    df_to_alt,\n",
        "    title=alt.Title(\n",
        "        f'{year} States Considered Democratic',\n",
        "        subtitle='Global view of democratic classifications'\n",
        "    )\n",
        ").mark_geoshape(\n",
        "    stroke='white',\n",
        "    strokeWidth=0.5\n",
        ").encode(\n",
        "    color=alt.Color(\n",
        "        'is_democracy:N', \n",
        "        scale=alt.Scale(\n",
        "            domain=[False, True],\n",
        "            range=['#E69A8DFF', '#5F4B8BFF']\n",
        "        ),\n",
        "        legend=alt.Legend(\n",
        "            title='Democratic Status',\n",
        "            labelExpr=\"datum.value ? 'Democratic' : 'Non-Democratic'\"\n",
        "        )\n",
        "    ),\n",
        "    tooltip=[\n",
        "        alt.Tooltip('ADMIN:N', title='Country'),\n",
        "        alt.Tooltip('is_democracy:N', title='Democratic'),\n",
        "        alt.Tooltip('year:O', title='Year')\n",
        "    ]\n",
        ").resolve_scale(\n",
        "    color='independent'\n",
        ").properties(\n",
        "    width=800,\n",
        "    height=400\n",
        ")\n",
        "\n",
        "# Save to png\n",
        "chart.save('week_45.png')"
      ],
      "id": "create-map",
      "execution_count": null,
      "outputs": []
    },
    {
      "cell_type": "markdown",
      "metadata": {},
      "source": [
        "### Temporal Analysis"
      ],
      "id": "82408fbd"
    },
    {
      "cell_type": "code",
      "metadata": {},
      "source": [
        "#| label: temporal-analysis\n",
        "#| echo: true\n",
        "\n",
        "# Analyze democratic trends over time\n",
        "democracy_by_year = df.groupby('year')['is_democracy'].agg(['sum', 'count']).reset_index()\n",
        "democracy_by_year['percentage'] = (democracy_by_year['sum'] / democracy_by_year['count']) * 100\n",
        "\n",
        "print(\"Democratic trends over time:\")\n",
        "print(democracy_by_year.head(10))\n",
        "\n",
        "# Create trend visualization\n",
        "trend_chart = alt.Chart(democracy_by_year).mark_line(\n",
        "    point=True,\n",
        "    color='#5F4B8BFF'\n",
        ").encode(\n",
        "    x=alt.X('year:O', title='Year'),\n",
        "    y=alt.Y('percentage:Q', title='Percentage of Democratic Countries'),\n",
        "    tooltip=['year:O', 'percentage:Q', 'sum:Q', 'count:Q']\n",
        ").properties(\n",
        "    width=600,\n",
        "    height=300,\n",
        "    title='Percentage of Democratic Countries Over Time'\n",
        ")"
      ],
      "id": "temporal-analysis",
      "execution_count": null,
      "outputs": []
    },
    {
      "cell_type": "markdown",
      "metadata": {},
      "source": [
        "### Save"
      ],
      "id": "6e4d8dfd"
    },
    {
      "cell_type": "code",
      "metadata": {},
      "source": [
        "# save png image\n",
        "\n",
        "# save gif"
      ],
      "id": "5812a33c",
      "execution_count": null,
      "outputs": []
    },
    {
      "cell_type": "markdown",
      "metadata": {},
      "source": [
        "## Methodology\n",
        "\n",
        "### Geospatial Processing\n",
        "- Used `geopandas` for efficient spatial data operations\n",
        "- Joined democracy data with world country geometries using ISO country codes\n",
        "- Handled missing geometric data for certain country codes\n",
        "\n",
        "### Visualization Approach\n",
        "- Implemented `altair` for interactive choropleth maps\n",
        "- Used diverging color scheme to distinguish democratic vs non-democratic states\n",
        "- Added interactive tooltips for detailed country information\n",
        "\n",
        "### Data Analysis\n",
        "- Calculated democratic percentages by year to show global trends\n",
        "- Identified temporal patterns in democratization processes\n",
        "- Analyzed geographic clustering of democratic institutions\n",
        "\n",
        "## Technical Notes\n",
        "\n",
        "- **Color Accessibility**: Chosen color scheme is colorblind-friendly\n",
        "- **Interactive Features**: Maps include hover tooltips and zoom functionality\n",
        "- **Performance**: Optimized for web display with appropriate data filtering\n",
        "- **Reproducibility**: All code uses publicly available datasets\n",
        "\n",
        "## Viz\n",
        "\n",
        "![](week_45.png)"
      ],
      "id": "ac32fab9"
    }
  ],
  "metadata": {
    "kernelspec": {
      "name": "python3",
      "language": "python",
      "display_name": "Python 3 (ipykernel)",
      "path": "/home/gnoblet/.local/share/jupyter/kernels/python3"
    }
  },
  "nbformat": 4,
  "nbformat_minor": 5
}